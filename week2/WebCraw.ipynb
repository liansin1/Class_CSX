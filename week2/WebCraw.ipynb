{
 "cells": [
  {
   "cell_type": "markdown",
   "metadata": {},
   "source": [
    " - 爬台灣紡織業股票的漲跌價差"
   ]
  },
  {
   "cell_type": "code",
   "execution_count": 5,
   "metadata": {},
   "outputs": [],
   "source": [
    "import requests\n",
    "import json\n",
    "from time import sleep\n",
    "import numpy as np"
   ]
  },
  {
   "cell_type": "code",
   "execution_count": 3,
   "metadata": {},
   "outputs": [
    {
     "name": "stdout",
     "output_type": "stream",
     "text": [
      "1409 0\n",
      "1409 1\n",
      "1409 2\n",
      "1409 3\n",
      "1409 4\n",
      "1409 5\n",
      "1409 6\n",
      "1409 7\n",
      "1409 8\n",
      "1409 9\n",
      "1409 10\n",
      "1409 11\n",
      "1410 0\n",
      "1410 1\n",
      "1410 2\n",
      "1410 3\n",
      "1410 4\n",
      "1410 5\n",
      "1410 6\n",
      "1410 7\n",
      "1410 8\n",
      "1410 9\n",
      "1410 10\n",
      "1410 11\n",
      "1477 0\n",
      "1477 1\n",
      "1477 2\n",
      "1477 3\n",
      "1477 4\n",
      "1477 5\n",
      "1477 6\n",
      "1477 7\n",
      "1477 8\n",
      "1477 9\n",
      "1477 10\n",
      "1477 11\n"
     ]
    }
   ],
   "source": [
    "stockNo = [1409,1410,1477]\n",
    "ans = dict()\n",
    "decoder = json.JSONDecoder()\n",
    "for no in stockNo:\n",
    "    for i in range(12):\n",
    "        print(no, i)\n",
    "        if i+1 < 10:\n",
    "            url = 'http://www.tse.com.tw/exchangeReport/STOCK_DAY?date=20170'+str(i+1)+'01&stockNo='+str(no)\n",
    "        else:\n",
    "            url = 'http://www.tse.com.tw/exchangeReport/STOCK_DAY?date=2017'+str(i+1)+'01&stockNo='+str(no)\n",
    "        res = requests.get(url)        \n",
    "        stock = decoder.decode(res.text)\n",
    "        date = [stock[\"data\"][i][0] for i in range(len(stock[\"data\"]))]\n",
    "        value = [stock[\"data\"][i][-2] for i in range(len(stock[\"data\"]))]\n",
    "        if str(no) in ans:\n",
    "            ans[str(no)]['date'].append(date)\n",
    "            ans[str(no)]['value'].append(value)\n",
    "        else:\n",
    "            ans[str(no)] = dict()\n",
    "            ans[str(no)]['date'] = list()\n",
    "            ans[str(no)]['value'] = list()\n",
    "            ans[str(no)]['date'].append(date)\n",
    "            ans[str(no)]['value'].append(value)\n",
    "        sleep(5)"
   ]
  },
  {
   "cell_type": "code",
   "execution_count": 30,
   "metadata": {},
   "outputs": [],
   "source": [
    "ans['1410']['value']=np.array(ans['1410']['value'])"
   ]
  },
  {
   "cell_type": "code",
   "execution_count": 34,
   "metadata": {},
   "outputs": [
    {
     "ename": "ValueError",
     "evalue": "setting an array element with a sequence.",
     "output_type": "error",
     "traceback": [
      "\u001b[1;31m---------------------------------------------------------------------------\u001b[0m",
      "\u001b[1;31mValueError\u001b[0m                                Traceback (most recent call last)",
      "\u001b[1;32m<ipython-input-34-fd3c729465c7>\u001b[0m in \u001b[0;36m<module>\u001b[1;34m()\u001b[0m\n\u001b[1;32m----> 1\u001b[1;33m \u001b[0mans\u001b[0m\u001b[1;33m[\u001b[0m\u001b[1;34m'1410'\u001b[0m\u001b[1;33m]\u001b[0m\u001b[1;33m[\u001b[0m\u001b[1;34m'value'\u001b[0m\u001b[1;33m]\u001b[0m\u001b[1;33m.\u001b[0m\u001b[0mastype\u001b[0m\u001b[1;33m(\u001b[0m\u001b[1;34m'float32'\u001b[0m\u001b[1;33m)\u001b[0m\u001b[1;33m\u001b[0m\u001b[0m\n\u001b[0m",
      "\u001b[1;31mValueError\u001b[0m: setting an array element with a sequence."
     ]
    }
   ],
   "source": [
    "ans['1410']['value'].astype('float32')"
   ]
  },
  {
   "cell_type": "code",
   "execution_count": 45,
   "metadata": {},
   "outputs": [
    {
     "data": {
      "text/plain": [
       "array([array([ 4. , -0.5, -2. , -3. , -2. ,  2. ,  0. ,  1. , -2.5,  0. ,  1. ,\n",
       "       -1. , -3.5, -0.5,  0. , -1. ], dtype=float32),\n",
       "       array([-3.5,  3. , -1.5,  1.5,  0.5,  0.5,  1. , -2. ,  0. ,  0. , -1.5,\n",
       "        3. ,  5.5,  0.5, -2. ,  1.5,  0.5,  1.5], dtype=float32),\n",
       "       array([ 0. , -1. , -0.5, -2.5,  3. ,  0. ,  0.5,  2. ,  2. ,  0.5, -0.5,\n",
       "       -1. ,  4. , -0.5, -1.5, -1.5,  2.5,  0.5, -3. , -2.5, -0.5,  0.5,\n",
       "       -0.5], dtype=float32),\n",
       "       array([ 0.5, -2. ,  0.5,  1. , -2. , -1.5,  0.5, -1.5,  1.5,  1.5, -2. ,\n",
       "        1. ,  1.5, -1.5, -0.5,  0.5,  0.5,  4.5], dtype=float32),\n",
       "       array([ 4.5, -1.5,  0.5, -3. , -1.5, -1.5,  2. ,  0. ,  2.5,  1.5,  9. ,\n",
       "        1. , -3. , -0.5, -0.5,  1. , -1. ,  1. , -1.5, -1. ],\n",
       "      dtype=float32),\n",
       "       array([ 1.5,  2.5, -1.5, -2. ,  2. , -2. ,  3. ,  0.5, -1. ,  4. , -5. ,\n",
       "        0.5,  2. ,  0.5,  0.5, -1. ,  5.5,  1. ,  2.5, -1.5, -1. ,  0. ,\n",
       "        1. ], dtype=float32),\n",
       "       list(['+3.00', '-1.00', '-2.00', '-1.50', '-2.50', '-4.50', '-1.50', '+2.50', ' 0.00', ' 0.00', 'X0.00', '+2.00', '+3.00', '+1.00', ' 0.00', '-1.00', '+1.00', '-2.00', '+1.50', '-3.00', '-0.50']),\n",
       "       list(['+1.50', '-1.00', '+1.00', '+2.00', ' 0.00', '-2.00', '+2.00', '-2.00', '-3.00', '-3.50', '+8.00', '-0.50', '+1.50', '-1.00', '+4.00', '+0.50', '-3.00', '+3.00', '+0.50', '-1.00', '-1.00', '+1.50', ' 0.00']),\n",
       "       list(['+1.00', '-2.00', '-0.50', '-4.00', '+0.50', ' 0.00', '-2.50', '+2.50', '-2.00', '+2.00', '-1.00', '-0.50', '-1.00', ' 0.00', '+0.50', '-1.50', '-3.00', '+0.50', '-0.50', ' 0.00', '+1.50', '-0.50']),\n",
       "       list(['+0.50', '-0.50', '-0.50', '+2.00', ' 0.00', '-1.50', '-0.50', '+1.50', '+3.00', '+0.50', '+3.00', '-0.50', '+1.00', '-1.00', '-2.00', '+1.00', '-2.00', '+0.50', '+3.00']),\n",
       "       list(['-1.00', '+0.50', ' 0.00', '-5.50', ' 0.00', '-1.50', '+0.50', ' 0.00', '-8.00', '-0.50', '-0.50', '-1.00', '-0.50', '-0.50', '+1.00', ' 0.00', ' 0.00', '-0.50', '-1.50', '+0.50', ' 0.00', '-0.50']),\n",
       "       list(['-3.00', '+2.00', '+4.00', '-3.00', ' 0.00', ' 0.00', '-1.00', '+1.00', '+2.50', '-0.50', '+1.00', '+1.00', '-0.50', '+1.50', '-1.00', '-0.50', '+0.50', '-2.50', '+2.50', '-0.50', '+1.00'])],\n",
       "      dtype=object)"
      ]
     },
     "execution_count": 45,
     "metadata": {},
     "output_type": "execute_result"
    }
   ],
   "source": [
    "ans['1477']['value']"
   ]
  },
  {
   "cell_type": "code",
   "execution_count": 47,
   "metadata": {},
   "outputs": [],
   "source": [
    "ans['1477']['value'][6][10] = 0.00"
   ]
  },
  {
   "cell_type": "markdown",
   "metadata": {},
   "source": [
    "- 將3個股票每個月的漲幅相加"
   ]
  },
  {
   "cell_type": "code",
   "execution_count": 48,
   "metadata": {},
   "outputs": [],
   "source": [
    "for no in stockNo:\n",
    "    ans[str(no)]['value']=np.array(ans[str(no)]['value'])\n",
    "    for i in range(len(ans[str(no)]['value'])):\n",
    "        ans[str(no)]['value'][i] = np.array(ans[str(no)]['value'][i]).astype('float32')"
   ]
  },
  {
   "cell_type": "code",
   "execution_count": 49,
   "metadata": {},
   "outputs": [],
   "source": [
    "YO = []\n",
    "for i in range(len(ans['1477']['value'])):\n",
    "    fm = np.sum(ans['1477']['value'][i] + ans['1409']['value'][i] + ans['1410']['value'][i])\n",
    "    YO.append(fm)"
   ]
  },
  {
   "cell_type": "code",
   "execution_count": 50,
   "metadata": {},
   "outputs": [
    {
     "data": {
      "text/plain": [
       "[-5.8399997,\n",
       " 9.19,\n",
       " -0.61999965,\n",
       " 0.8800001,\n",
       " 7.590001,\n",
       " 12.15,\n",
       " -5.3799996,\n",
       " 8.04,\n",
       " -10.540001,\n",
       " 8.33,\n",
       " -19.210001,\n",
       " 4.29]"
      ]
     },
     "execution_count": 50,
     "metadata": {},
     "output_type": "execute_result"
    }
   ],
   "source": [
    "YO"
   ]
  },
  {
   "cell_type": "code",
   "execution_count": 51,
   "metadata": {},
   "outputs": [],
   "source": [
    "import numpy as np\n",
    "import matplotlib.pyplot as plt"
   ]
  },
  {
   "cell_type": "code",
   "execution_count": 52,
   "metadata": {},
   "outputs": [
    {
     "name": "stdout",
     "output_type": "stream",
     "text": [
      "<class 'pandas.core.frame.DataFrame'>\n",
      "RangeIndex: 2268348 entries, 0 to 2268347\n",
      "Data columns (total 27 columns):\n",
      "SalesOrderSlaveId              int64\n",
      "DateId                         int64\n",
      "MemberId                       object\n",
      "TradesOrderSlaveId             int64\n",
      "ShopId                         int64\n",
      "SalePageId                     int64\n",
      "TradesOrderGroupCode           object\n",
      "TrackSourceTypeDef             object\n",
      "TrackChannelTypeDef            object\n",
      "TrackDeviceTypeDef             object\n",
      "LevelOneCategoryName           object\n",
      "LevelTwoCategoryName           object\n",
      "LevelThreeCategoryName         object\n",
      "LevelFourCategoryName          object\n",
      "IsMajor                        bool\n",
      "IsGift                         bool\n",
      "Quantity                       int64\n",
      "UnitPrice                      float64\n",
      "PromotionDiscount              float64\n",
      "EcouponDiscount                float64\n",
      "SalesOrderSlaveTotalPayment    float64\n",
      "SalesOrderSlaveDateTime        object\n",
      "SalesOrderSlaveStatusDef       object\n",
      "PayProfileTypeDef              object\n",
      "ShippingProfileTypeDef         object\n",
      "EcouponId                      float64\n",
      "IsSalePageGift                 bool\n",
      "dtypes: bool(3), float64(5), int64(6), object(13)\n",
      "memory usage: 421.8+ MB\n"
     ]
    },
    {
     "data": {
      "text/plain": [
       "0    1\n",
       "1    1\n",
       "2    1\n",
       "3    1\n",
       "4    1\n",
       "Name: Quantity, dtype: int64"
      ]
     },
     "execution_count": 52,
     "metadata": {},
     "output_type": "execute_result"
    }
   ],
   "source": [
    "import pandas as pd\n",
    "df = pd.read_csv('Ntu_Orders.csv')\n",
    "df.shape\n",
    "df.info()\n",
    "df['new_DateId'] = pd.to_datetime(df['DateId'].astype(str), format='%Y%m%d')\n",
    "df['Quantity'].head()\n",
    "#df.loc[0]"
   ]
  },
  {
   "cell_type": "code",
   "execution_count": 53,
   "metadata": {},
   "outputs": [
    {
     "data": {
      "text/html": [
       "<div>\n",
       "<style scoped>\n",
       "    .dataframe tbody tr th:only-of-type {\n",
       "        vertical-align: middle;\n",
       "    }\n",
       "\n",
       "    .dataframe tbody tr th {\n",
       "        vertical-align: top;\n",
       "    }\n",
       "\n",
       "    .dataframe thead th {\n",
       "        text-align: right;\n",
       "    }\n",
       "</style>\n",
       "<table border=\"1\" class=\"dataframe\">\n",
       "  <thead>\n",
       "    <tr style=\"text-align: right;\">\n",
       "      <th></th>\n",
       "      <th>Quantity</th>\n",
       "    </tr>\n",
       "    <tr>\n",
       "      <th>new_DateId</th>\n",
       "      <th></th>\n",
       "    </tr>\n",
       "  </thead>\n",
       "  <tbody>\n",
       "    <tr>\n",
       "      <th>2017-01-01</th>\n",
       "      <td>3823</td>\n",
       "    </tr>\n",
       "    <tr>\n",
       "      <th>2017-01-02</th>\n",
       "      <td>5105</td>\n",
       "    </tr>\n",
       "    <tr>\n",
       "      <th>2017-01-03</th>\n",
       "      <td>3623</td>\n",
       "    </tr>\n",
       "    <tr>\n",
       "      <th>2017-01-04</th>\n",
       "      <td>2889</td>\n",
       "    </tr>\n",
       "    <tr>\n",
       "      <th>2017-01-05</th>\n",
       "      <td>2843</td>\n",
       "    </tr>\n",
       "    <tr>\n",
       "      <th>2017-01-06</th>\n",
       "      <td>2391</td>\n",
       "    </tr>\n",
       "    <tr>\n",
       "      <th>2017-01-07</th>\n",
       "      <td>2641</td>\n",
       "    </tr>\n",
       "    <tr>\n",
       "      <th>2017-01-08</th>\n",
       "      <td>2335</td>\n",
       "    </tr>\n",
       "    <tr>\n",
       "      <th>2017-01-09</th>\n",
       "      <td>2119</td>\n",
       "    </tr>\n",
       "    <tr>\n",
       "      <th>2017-01-10</th>\n",
       "      <td>2470</td>\n",
       "    </tr>\n",
       "    <tr>\n",
       "      <th>2017-01-11</th>\n",
       "      <td>2053</td>\n",
       "    </tr>\n",
       "    <tr>\n",
       "      <th>2017-01-12</th>\n",
       "      <td>1728</td>\n",
       "    </tr>\n",
       "    <tr>\n",
       "      <th>2017-01-13</th>\n",
       "      <td>2078</td>\n",
       "    </tr>\n",
       "    <tr>\n",
       "      <th>2017-01-14</th>\n",
       "      <td>1985</td>\n",
       "    </tr>\n",
       "    <tr>\n",
       "      <th>2017-01-15</th>\n",
       "      <td>1560</td>\n",
       "    </tr>\n",
       "    <tr>\n",
       "      <th>2017-01-16</th>\n",
       "      <td>1316</td>\n",
       "    </tr>\n",
       "    <tr>\n",
       "      <th>2017-01-17</th>\n",
       "      <td>2242</td>\n",
       "    </tr>\n",
       "    <tr>\n",
       "      <th>2017-01-18</th>\n",
       "      <td>2415</td>\n",
       "    </tr>\n",
       "    <tr>\n",
       "      <th>2017-01-19</th>\n",
       "      <td>2243</td>\n",
       "    </tr>\n",
       "    <tr>\n",
       "      <th>2017-01-20</th>\n",
       "      <td>1733</td>\n",
       "    </tr>\n",
       "    <tr>\n",
       "      <th>2017-01-21</th>\n",
       "      <td>1409</td>\n",
       "    </tr>\n",
       "    <tr>\n",
       "      <th>2017-01-22</th>\n",
       "      <td>1323</td>\n",
       "    </tr>\n",
       "    <tr>\n",
       "      <th>2017-01-23</th>\n",
       "      <td>1294</td>\n",
       "    </tr>\n",
       "    <tr>\n",
       "      <th>2017-01-24</th>\n",
       "      <td>1634</td>\n",
       "    </tr>\n",
       "    <tr>\n",
       "      <th>2017-01-25</th>\n",
       "      <td>2004</td>\n",
       "    </tr>\n",
       "    <tr>\n",
       "      <th>2017-01-26</th>\n",
       "      <td>1680</td>\n",
       "    </tr>\n",
       "    <tr>\n",
       "      <th>2017-01-27</th>\n",
       "      <td>1674</td>\n",
       "    </tr>\n",
       "    <tr>\n",
       "      <th>2017-01-28</th>\n",
       "      <td>1578</td>\n",
       "    </tr>\n",
       "    <tr>\n",
       "      <th>2017-01-29</th>\n",
       "      <td>1622</td>\n",
       "    </tr>\n",
       "    <tr>\n",
       "      <th>2017-01-30</th>\n",
       "      <td>1480</td>\n",
       "    </tr>\n",
       "    <tr>\n",
       "      <th>...</th>\n",
       "      <td>...</td>\n",
       "    </tr>\n",
       "    <tr>\n",
       "      <th>2017-12-11</th>\n",
       "      <td>6153</td>\n",
       "    </tr>\n",
       "    <tr>\n",
       "      <th>2017-12-12</th>\n",
       "      <td>11198</td>\n",
       "    </tr>\n",
       "    <tr>\n",
       "      <th>2017-12-13</th>\n",
       "      <td>9091</td>\n",
       "    </tr>\n",
       "    <tr>\n",
       "      <th>2017-12-14</th>\n",
       "      <td>7128</td>\n",
       "    </tr>\n",
       "    <tr>\n",
       "      <th>2017-12-15</th>\n",
       "      <td>5903</td>\n",
       "    </tr>\n",
       "    <tr>\n",
       "      <th>2017-12-16</th>\n",
       "      <td>7012</td>\n",
       "    </tr>\n",
       "    <tr>\n",
       "      <th>2017-12-17</th>\n",
       "      <td>7675</td>\n",
       "    </tr>\n",
       "    <tr>\n",
       "      <th>2017-12-18</th>\n",
       "      <td>9168</td>\n",
       "    </tr>\n",
       "    <tr>\n",
       "      <th>2017-12-19</th>\n",
       "      <td>9574</td>\n",
       "    </tr>\n",
       "    <tr>\n",
       "      <th>2017-12-20</th>\n",
       "      <td>7139</td>\n",
       "    </tr>\n",
       "    <tr>\n",
       "      <th>2017-12-21</th>\n",
       "      <td>6454</td>\n",
       "    </tr>\n",
       "    <tr>\n",
       "      <th>2017-12-22</th>\n",
       "      <td>5145</td>\n",
       "    </tr>\n",
       "    <tr>\n",
       "      <th>2017-12-23</th>\n",
       "      <td>5428</td>\n",
       "    </tr>\n",
       "    <tr>\n",
       "      <th>2017-12-24</th>\n",
       "      <td>6597</td>\n",
       "    </tr>\n",
       "    <tr>\n",
       "      <th>2017-12-25</th>\n",
       "      <td>7829</td>\n",
       "    </tr>\n",
       "    <tr>\n",
       "      <th>2017-12-26</th>\n",
       "      <td>7909</td>\n",
       "    </tr>\n",
       "    <tr>\n",
       "      <th>2017-12-27</th>\n",
       "      <td>6735</td>\n",
       "    </tr>\n",
       "    <tr>\n",
       "      <th>2017-12-28</th>\n",
       "      <td>5864</td>\n",
       "    </tr>\n",
       "    <tr>\n",
       "      <th>2017-12-29</th>\n",
       "      <td>5392</td>\n",
       "    </tr>\n",
       "    <tr>\n",
       "      <th>2017-12-30</th>\n",
       "      <td>5968</td>\n",
       "    </tr>\n",
       "    <tr>\n",
       "      <th>2017-12-31</th>\n",
       "      <td>6882</td>\n",
       "    </tr>\n",
       "    <tr>\n",
       "      <th>2018-01-01</th>\n",
       "      <td>5786</td>\n",
       "    </tr>\n",
       "    <tr>\n",
       "      <th>2018-01-02</th>\n",
       "      <td>10484</td>\n",
       "    </tr>\n",
       "    <tr>\n",
       "      <th>2018-01-03</th>\n",
       "      <td>7802</td>\n",
       "    </tr>\n",
       "    <tr>\n",
       "      <th>2018-01-04</th>\n",
       "      <td>4104</td>\n",
       "    </tr>\n",
       "    <tr>\n",
       "      <th>2018-01-05</th>\n",
       "      <td>3687</td>\n",
       "    </tr>\n",
       "    <tr>\n",
       "      <th>2018-01-06</th>\n",
       "      <td>4088</td>\n",
       "    </tr>\n",
       "    <tr>\n",
       "      <th>2018-01-07</th>\n",
       "      <td>5125</td>\n",
       "    </tr>\n",
       "    <tr>\n",
       "      <th>2018-01-08</th>\n",
       "      <td>4144</td>\n",
       "    </tr>\n",
       "    <tr>\n",
       "      <th>2018-01-09</th>\n",
       "      <td>693</td>\n",
       "    </tr>\n",
       "  </tbody>\n",
       "</table>\n",
       "<p>374 rows × 1 columns</p>\n",
       "</div>"
      ],
      "text/plain": [
       "            Quantity\n",
       "new_DateId          \n",
       "2017-01-01      3823\n",
       "2017-01-02      5105\n",
       "2017-01-03      3623\n",
       "2017-01-04      2889\n",
       "2017-01-05      2843\n",
       "2017-01-06      2391\n",
       "2017-01-07      2641\n",
       "2017-01-08      2335\n",
       "2017-01-09      2119\n",
       "2017-01-10      2470\n",
       "2017-01-11      2053\n",
       "2017-01-12      1728\n",
       "2017-01-13      2078\n",
       "2017-01-14      1985\n",
       "2017-01-15      1560\n",
       "2017-01-16      1316\n",
       "2017-01-17      2242\n",
       "2017-01-18      2415\n",
       "2017-01-19      2243\n",
       "2017-01-20      1733\n",
       "2017-01-21      1409\n",
       "2017-01-22      1323\n",
       "2017-01-23      1294\n",
       "2017-01-24      1634\n",
       "2017-01-25      2004\n",
       "2017-01-26      1680\n",
       "2017-01-27      1674\n",
       "2017-01-28      1578\n",
       "2017-01-29      1622\n",
       "2017-01-30      1480\n",
       "...              ...\n",
       "2017-12-11      6153\n",
       "2017-12-12     11198\n",
       "2017-12-13      9091\n",
       "2017-12-14      7128\n",
       "2017-12-15      5903\n",
       "2017-12-16      7012\n",
       "2017-12-17      7675\n",
       "2017-12-18      9168\n",
       "2017-12-19      9574\n",
       "2017-12-20      7139\n",
       "2017-12-21      6454\n",
       "2017-12-22      5145\n",
       "2017-12-23      5428\n",
       "2017-12-24      6597\n",
       "2017-12-25      7829\n",
       "2017-12-26      7909\n",
       "2017-12-27      6735\n",
       "2017-12-28      5864\n",
       "2017-12-29      5392\n",
       "2017-12-30      5968\n",
       "2017-12-31      6882\n",
       "2018-01-01      5786\n",
       "2018-01-02     10484\n",
       "2018-01-03      7802\n",
       "2018-01-04      4104\n",
       "2018-01-05      3687\n",
       "2018-01-06      4088\n",
       "2018-01-07      5125\n",
       "2018-01-08      4144\n",
       "2018-01-09       693\n",
       "\n",
       "[374 rows x 1 columns]"
      ]
     },
     "execution_count": 53,
     "metadata": {},
     "output_type": "execute_result"
    }
   ],
   "source": [
    "ga = pd.DataFrame(df.groupby(by='new_DateId')['Quantity'].sum())\n",
    "ga"
   ]
  },
  {
   "cell_type": "markdown",
   "metadata": {},
   "source": [
    " - 計算每個月的天數"
   ]
  },
  {
   "cell_type": "code",
   "execution_count": 54,
   "metadata": {},
   "outputs": [
    {
     "data": {
      "text/plain": [
       "[0, 31, 28, 31, 30, 31, 30, 31, 31, 30, 31, 30, 31]"
      ]
     },
     "execution_count": 54,
     "metadata": {},
     "output_type": "execute_result"
    }
   ],
   "source": [
    "g =[]\n",
    "import calendar as cd\n",
    "ii = cd.mdays\n",
    "ii"
   ]
  },
  {
   "cell_type": "code",
   "execution_count": 55,
   "metadata": {},
   "outputs": [],
   "source": [
    "bb = 0\n",
    "for ij in range(len(ii)):\n",
    "    bb = bb+ii[ij]\n",
    "    g.append(bb)"
   ]
  },
  {
   "cell_type": "code",
   "execution_count": 56,
   "metadata": {},
   "outputs": [
    {
     "name": "stdout",
     "output_type": "stream",
     "text": [
      "[0, 31, 59, 90, 120, 151, 181, 212, 243, 273, 304, 334, 365, 374]\n"
     ]
    }
   ],
   "source": [
    "ga_size = len(ga)\n",
    "g.append(ga_size)\n",
    "print(g)"
   ]
  },
  {
   "cell_type": "markdown",
   "metadata": {},
   "source": [
    "- 算出每月的銷貨量"
   ]
  },
  {
   "cell_type": "code",
   "execution_count": 57,
   "metadata": {},
   "outputs": [
    {
     "name": "stdout",
     "output_type": "stream",
     "text": [
      "Quantity    65290\n",
      "dtype: int64\n",
      "Quantity    97491\n",
      "dtype: int64\n",
      "Quantity    196562\n",
      "dtype: int64\n",
      "Quantity    259715\n",
      "dtype: int64\n",
      "Quantity    256074\n",
      "dtype: int64\n",
      "Quantity    200846\n",
      "dtype: int64\n",
      "Quantity    195764\n",
      "dtype: int64\n",
      "Quantity    148498\n",
      "dtype: int64\n",
      "Quantity    130954\n",
      "dtype: int64\n",
      "Quantity    172558\n",
      "dtype: int64\n",
      "Quantity    261764\n",
      "dtype: int64\n",
      "Quantity    205183\n",
      "dtype: int64\n",
      "Quantity    45220\n",
      "dtype: int64\n"
     ]
    }
   ],
   "source": [
    "gh = []\n",
    "for ij in range(len(g)-1):\n",
    "    gm = ga[g[ij]:(g[ij+1]-1)].sum()\n",
    "    print(gm)\n",
    "    gh.append(int(gm))    "
   ]
  },
  {
   "cell_type": "code",
   "execution_count": 58,
   "metadata": {},
   "outputs": [
    {
     "data": {
      "text/plain": [
       "[65290,\n",
       " 97491,\n",
       " 196562,\n",
       " 259715,\n",
       " 256074,\n",
       " 200846,\n",
       " 195764,\n",
       " 148498,\n",
       " 130954,\n",
       " 172558,\n",
       " 261764,\n",
       " 205183,\n",
       " 45220]"
      ]
     },
     "execution_count": 58,
     "metadata": {},
     "output_type": "execute_result"
    }
   ],
   "source": [
    "gh"
   ]
  },
  {
   "cell_type": "code",
   "execution_count": 59,
   "metadata": {},
   "outputs": [],
   "source": [
    "# 僅看2017年每月的銷貨量\n",
    "gg = ['65290','97491','196562','259715',\n",
    " '256074','200846','195764','148498','130954',\n",
    " '172558','261764','205183']"
   ]
  },
  {
   "cell_type": "code",
   "execution_count": 60,
   "metadata": {},
   "outputs": [],
   "source": [
    "date = ['Jan','Feb','Mar','Apr','May','Jun','Jul','Aug','Sep','Oct','Nov','Dec']"
   ]
  },
  {
   "cell_type": "code",
   "execution_count": 61,
   "metadata": {},
   "outputs": [
    {
     "data": {
      "text/html": [
       "<div>\n",
       "<style scoped>\n",
       "    .dataframe tbody tr th:only-of-type {\n",
       "        vertical-align: middle;\n",
       "    }\n",
       "\n",
       "    .dataframe tbody tr th {\n",
       "        vertical-align: top;\n",
       "    }\n",
       "\n",
       "    .dataframe thead th {\n",
       "        text-align: right;\n",
       "    }\n",
       "</style>\n",
       "<table border=\"1\" class=\"dataframe\">\n",
       "  <thead>\n",
       "    <tr style=\"text-align: right;\">\n",
       "      <th></th>\n",
       "      <th>0</th>\n",
       "      <th>1</th>\n",
       "    </tr>\n",
       "  </thead>\n",
       "  <tbody>\n",
       "    <tr>\n",
       "      <th>0</th>\n",
       "      <td>Jan</td>\n",
       "      <td>65290</td>\n",
       "    </tr>\n",
       "    <tr>\n",
       "      <th>1</th>\n",
       "      <td>Feb</td>\n",
       "      <td>97491</td>\n",
       "    </tr>\n",
       "    <tr>\n",
       "      <th>2</th>\n",
       "      <td>Mar</td>\n",
       "      <td>196562</td>\n",
       "    </tr>\n",
       "    <tr>\n",
       "      <th>3</th>\n",
       "      <td>Apr</td>\n",
       "      <td>259715</td>\n",
       "    </tr>\n",
       "    <tr>\n",
       "      <th>4</th>\n",
       "      <td>May</td>\n",
       "      <td>256074</td>\n",
       "    </tr>\n",
       "    <tr>\n",
       "      <th>5</th>\n",
       "      <td>Jun</td>\n",
       "      <td>200846</td>\n",
       "    </tr>\n",
       "    <tr>\n",
       "      <th>6</th>\n",
       "      <td>Jul</td>\n",
       "      <td>195764</td>\n",
       "    </tr>\n",
       "    <tr>\n",
       "      <th>7</th>\n",
       "      <td>Aug</td>\n",
       "      <td>148498</td>\n",
       "    </tr>\n",
       "    <tr>\n",
       "      <th>8</th>\n",
       "      <td>Sep</td>\n",
       "      <td>130954</td>\n",
       "    </tr>\n",
       "    <tr>\n",
       "      <th>9</th>\n",
       "      <td>Oct</td>\n",
       "      <td>172558</td>\n",
       "    </tr>\n",
       "    <tr>\n",
       "      <th>10</th>\n",
       "      <td>Nov</td>\n",
       "      <td>261764</td>\n",
       "    </tr>\n",
       "    <tr>\n",
       "      <th>11</th>\n",
       "      <td>Dec</td>\n",
       "      <td>205183</td>\n",
       "    </tr>\n",
       "  </tbody>\n",
       "</table>\n",
       "</div>"
      ],
      "text/plain": [
       "      0       1\n",
       "0   Jan   65290\n",
       "1   Feb   97491\n",
       "2   Mar  196562\n",
       "3   Apr  259715\n",
       "4   May  256074\n",
       "5   Jun  200846\n",
       "6   Jul  195764\n",
       "7   Aug  148498\n",
       "8   Sep  130954\n",
       "9   Oct  172558\n",
       "10  Nov  261764\n",
       "11  Dec  205183"
      ]
     },
     "execution_count": 61,
     "metadata": {},
     "output_type": "execute_result"
    }
   ],
   "source": [
    "pd.DataFrame(np.transpose(np.vstack([date, gg])))"
   ]
  },
  {
   "cell_type": "code",
   "execution_count": 62,
   "metadata": {},
   "outputs": [
    {
     "data": {
      "text/plain": [
       "pandas.core.frame.DataFrame"
      ]
     },
     "execution_count": 62,
     "metadata": {},
     "output_type": "execute_result"
    }
   ],
   "source": [
    "ag = pd.DataFrame(np.transpose(np.vstack([date, gg ,YO])))\n",
    "type(ag)"
   ]
  },
  {
   "cell_type": "code",
   "execution_count": 63,
   "metadata": {},
   "outputs": [
    {
     "data": {
      "text/html": [
       "<div>\n",
       "<style scoped>\n",
       "    .dataframe tbody tr th:only-of-type {\n",
       "        vertical-align: middle;\n",
       "    }\n",
       "\n",
       "    .dataframe tbody tr th {\n",
       "        vertical-align: top;\n",
       "    }\n",
       "\n",
       "    .dataframe thead th {\n",
       "        text-align: right;\n",
       "    }\n",
       "</style>\n",
       "<table border=\"1\" class=\"dataframe\">\n",
       "  <thead>\n",
       "    <tr style=\"text-align: right;\">\n",
       "      <th></th>\n",
       "      <th>0</th>\n",
       "      <th>1</th>\n",
       "      <th>2</th>\n",
       "    </tr>\n",
       "  </thead>\n",
       "  <tbody>\n",
       "    <tr>\n",
       "      <th>0</th>\n",
       "      <td>Jan</td>\n",
       "      <td>65290</td>\n",
       "      <td>-5.8399997</td>\n",
       "    </tr>\n",
       "    <tr>\n",
       "      <th>1</th>\n",
       "      <td>Feb</td>\n",
       "      <td>97491</td>\n",
       "      <td>9.19</td>\n",
       "    </tr>\n",
       "    <tr>\n",
       "      <th>2</th>\n",
       "      <td>Mar</td>\n",
       "      <td>196562</td>\n",
       "      <td>-0.61999965</td>\n",
       "    </tr>\n",
       "    <tr>\n",
       "      <th>3</th>\n",
       "      <td>Apr</td>\n",
       "      <td>259715</td>\n",
       "      <td>0.8800001</td>\n",
       "    </tr>\n",
       "    <tr>\n",
       "      <th>4</th>\n",
       "      <td>May</td>\n",
       "      <td>256074</td>\n",
       "      <td>7.590001</td>\n",
       "    </tr>\n",
       "    <tr>\n",
       "      <th>5</th>\n",
       "      <td>Jun</td>\n",
       "      <td>200846</td>\n",
       "      <td>12.15</td>\n",
       "    </tr>\n",
       "    <tr>\n",
       "      <th>6</th>\n",
       "      <td>Jul</td>\n",
       "      <td>195764</td>\n",
       "      <td>-5.3799996</td>\n",
       "    </tr>\n",
       "    <tr>\n",
       "      <th>7</th>\n",
       "      <td>Aug</td>\n",
       "      <td>148498</td>\n",
       "      <td>8.04</td>\n",
       "    </tr>\n",
       "    <tr>\n",
       "      <th>8</th>\n",
       "      <td>Sep</td>\n",
       "      <td>130954</td>\n",
       "      <td>-10.540001</td>\n",
       "    </tr>\n",
       "    <tr>\n",
       "      <th>9</th>\n",
       "      <td>Oct</td>\n",
       "      <td>172558</td>\n",
       "      <td>8.33</td>\n",
       "    </tr>\n",
       "    <tr>\n",
       "      <th>10</th>\n",
       "      <td>Nov</td>\n",
       "      <td>261764</td>\n",
       "      <td>-19.210001</td>\n",
       "    </tr>\n",
       "    <tr>\n",
       "      <th>11</th>\n",
       "      <td>Dec</td>\n",
       "      <td>205183</td>\n",
       "      <td>4.29</td>\n",
       "    </tr>\n",
       "  </tbody>\n",
       "</table>\n",
       "</div>"
      ],
      "text/plain": [
       "      0       1            2\n",
       "0   Jan   65290   -5.8399997\n",
       "1   Feb   97491         9.19\n",
       "2   Mar  196562  -0.61999965\n",
       "3   Apr  259715    0.8800001\n",
       "4   May  256074     7.590001\n",
       "5   Jun  200846        12.15\n",
       "6   Jul  195764   -5.3799996\n",
       "7   Aug  148498         8.04\n",
       "8   Sep  130954   -10.540001\n",
       "9   Oct  172558         8.33\n",
       "10  Nov  261764   -19.210001\n",
       "11  Dec  205183         4.29"
      ]
     },
     "execution_count": 63,
     "metadata": {},
     "output_type": "execute_result"
    }
   ],
   "source": [
    "ag"
   ]
  },
  {
   "cell_type": "code",
   "execution_count": 70,
   "metadata": {},
   "outputs": [
    {
     "data": {
      "text/plain": [
       "0     Jan\n",
       "1     Feb\n",
       "2     Mar\n",
       "3     Apr\n",
       "4     May\n",
       "5     Jun\n",
       "6     Jul\n",
       "7     Aug\n",
       "8     Sep\n",
       "9     Oct\n",
       "10    Nov\n",
       "11    Dec\n",
       "Name: 0, dtype: object"
      ]
     },
     "execution_count": 70,
     "metadata": {},
     "output_type": "execute_result"
    }
   ],
   "source": [
    "ag[0]"
   ]
  },
  {
   "cell_type": "code",
   "execution_count": 71,
   "metadata": {},
   "outputs": [],
   "source": [
    "ag_list = list(ag[0])"
   ]
  },
  {
   "cell_type": "code",
   "execution_count": 72,
   "metadata": {},
   "outputs": [
    {
     "data": {
      "text/plain": [
       "['Jan',\n",
       " 'Feb',\n",
       " 'Mar',\n",
       " 'Apr',\n",
       " 'May',\n",
       " 'Jun',\n",
       " 'Jul',\n",
       " 'Aug',\n",
       " 'Sep',\n",
       " 'Oct',\n",
       " 'Nov',\n",
       " 'Dec']"
      ]
     },
     "execution_count": 72,
     "metadata": {},
     "output_type": "execute_result"
    }
   ],
   "source": [
    "ag_list"
   ]
  },
  {
   "cell_type": "markdown",
   "metadata": {},
   "source": [
    " - Bule Line 為購買量  ;  Orange Line為股票漲幅\n",
    " - 所以可以看出股票的漲幅與購買力無太大關係"
   ]
  },
  {
   "cell_type": "code",
   "execution_count": 80,
   "metadata": {
    "scrolled": true
   },
   "outputs": [
    {
     "data": {
      "image/png": "[encoded data removed]",
      "text/plain": [
       "<matplotlib.figure.Figure at 0x1ec845c1588>"
      ]
     },
     "metadata": {},
     "output_type": "display_data"
    }
   ],
   "source": [
    "plt.plot(np.arange(len(ag[1]))+1,ag[1])\n",
    "plt.plot(np.arange(len(ag[1]))+1,ag[2])\n",
    "plt.show()"
   ]
  }
 ],
 "metadata": {
  "kernelspec": {
   "display_name": "Python 3",
   "language": "python",
   "name": "python3"
  },
  "language_info": {
   "codemirror_mode": {
    "name": "ipython",
    "version": 3
   },
   "file_extension": ".py",
   "mimetype": "text/x-python",
   "name": "python",
   "nbconvert_exporter": "python",
   "pygments_lexer": "ipython3",
   "version": "3.6.4"
  }
 },
 "nbformat": 4,
 "nbformat_minor": 2
}
